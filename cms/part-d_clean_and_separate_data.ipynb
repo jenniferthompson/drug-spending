{
 "cells": [
  {
   "cell_type": "markdown",
   "metadata": {},
   "source": [
    "# Medicare Part D Drug Spending Data <small>Downloading, extracting, and cleaning</small>"
   ]
  },
  {
   "cell_type": "code",
   "execution_count": 17,
   "metadata": {
    "collapsed": false
   },
   "outputs": [],
   "source": [
    "import requests # to download the dataset\n",
    "import zipfile # to extract from archive\n",
    "import shutil # to write the dataset to file\n",
    "import os # rename file to something more type-able\n",
    "import pandas as pd\n",
    "import numpy as np\n",
    "\n",
    "url = 'https://www.cms.gov/Research-Statistics-Data-and-Systems/Statistics-Trends-and-Reports/Information-on-Prescription-Drugs/Downloads/Part_D_All_Drugs_2015.zip'\n",
    "response = requests.get(url, stream=True)\n",
    "\n",
    "zip_filename = 'dataset.zip'\n",
    "with open(zip_filename, 'wb') as ds_zipout:\n",
    "    shutil.copyfileobj(response.raw, ds_zipout)\n",
    "\n",
    "zip = zipfile.ZipFile(zip_filename, 'r')\n",
    "xls_filename = zip.namelist()[0]\n",
    "zip.extract(xls_filename)\n",
    "\n",
    "os.remove(zip_filename)"
   ]
  },
  {
   "cell_type": "markdown",
   "metadata": {},
   "source": [
    "We're going to read the data into a `pandas.DataFrame`, but because the data is in several work sheets, we need to read out the right work sheet:"
   ]
  },
  {
   "cell_type": "code",
   "execution_count": 18,
   "metadata": {
    "collapsed": false
   },
   "outputs": [],
   "source": [
    "xls = pd.ExcelFile(xls_filename)\n",
    "df = xls.parse('Data', skiprows=3)\n",
    "df.index = np.arange(1, len(df) + 1)"
   ]
  },
  {
   "cell_type": "markdown",
   "metadata": {},
   "source": [
    "Now we need to start capturing relevant data. The easiest way to start is by getting a list of prescribed drug names, both brand and generic."
   ]
  },
  {
   "cell_type": "code",
   "execution_count": 19,
   "metadata": {
    "collapsed": false
   },
   "outputs": [],
   "source": [
    "# Capture ONLY the drug names (the first two columns)\n",
    "df_drugnames = df.iloc[:, :2]\n",
    "df_drugnames.columns = [\n",
    "    'drugname_brand',\n",
    "    'drugname_generic'\n",
    "]"
   ]
  },
  {
   "cell_type": "markdown",
   "metadata": {},
   "source": [
    "The drug names may contain leading or trailing whitespace in their \"raw\" state direct from the XLSX file; let's scrub that whitespace."
   ]
  },
  {
   "cell_type": "code",
   "execution_count": 20,
   "metadata": {
    "collapsed": false
   },
   "outputs": [],
   "source": [
    "# Strip extraneous whitespace from drug names\n",
    "df_drugnames.loc[:, 'drugname_brand'] = df_drugnames.loc[:, 'drugname_brand'].map(lambda x: x.strip())\n",
    "df_drugnames.loc[:, 'drugname_generic'] = df_drugnames.loc[:, 'drugname_generic'].map(lambda x: x.strip())"
   ]
  },
  {
   "cell_type": "markdown",
   "metadata": {},
   "source": [
    "Now that this portion of the data is clean, we can safely write it out to both feather and CSV files."
   ]
  },
  {
   "cell_type": "code",
   "execution_count": 21,
   "metadata": {
    "collapsed": true
   },
   "outputs": [],
   "source": [
    "# Write to feather ...\n",
    "import feather\n",
    "feather.write_dataframe(df_drugnames, 'drugnames.feather')\n",
    "\n",
    "# Now write to CSV ...\n",
    "df_drugnames.to_csv('drugnames.csv', index=False)"
   ]
  },
  {
   "cell_type": "markdown",
   "metadata": {},
   "source": [
    "Okay! With drug names, out of the way, we can concentrate on annual spending data.\n",
    "\n",
    "We can parse out spending for each year by extracting their corresponding column ranges in the XLS. After we do that, it's easy to add back the drug names we just gathered. That way, people don't have to reference two DataFrames every time they want to track drug spending for a given year."
   ]
  },
  {
   "cell_type": "code",
   "execution_count": 22,
   "metadata": {
    "collapsed": false
   },
   "outputs": [],
   "source": [
    "# Separate column groups by year\n",
    "cols_by_year = [\n",
    "    { 'year': 2011, 'start': 2, 'end': 12 },\n",
    "    { 'year': 2012, 'start': 12, 'end': 22 },\n",
    "    { 'year': 2013, 'start': 22, 'end': 32 },\n",
    "    { 'year': 2014, 'start': 32, 'end': 42 },\n",
    "    { 'year': 2015, 'start': 42, 'end': 53 },\n",
    "]\n",
    "\n",
    "df_years = {}\n",
    "\n",
    "col_brandname = 0\n",
    "col_genericname = 1\n",
    "for cols in cols_by_year:\n",
    "    year, start, end = cols['year'], cols['start'], cols['end']\n",
    "\n",
    "    df_years[year] = pd.concat(\n",
    "        [\n",
    "            df_drugnames,\n",
    "            df.iloc[:, start:end]\n",
    "        ],\n",
    "        axis=1)"
   ]
  },
  {
   "cell_type": "markdown",
   "metadata": {},
   "source": [
    "Let's go ahead and remove the final column of the 2015 data (\"Annual Change in Average Cost per Unit\"). None of the other years have it, so it doesn't give us a lot of opportunity for comparison and analysis; plus, it's only available for drugs used at least 1,000 beneficiaries."
   ]
  },
  {
   "cell_type": "code",
   "execution_count": 23,
   "metadata": {
    "collapsed": false
   },
   "outputs": [],
   "source": [
    "df_years[2015] = df_years[2015].drop(df_years[2015].columns[-1], axis=1)"
   ]
  },
  {
   "cell_type": "markdown",
   "metadata": {},
   "source": [
    "From year to year, the list of prescribed drugs changes; some are added, and some are removed. We should probably get rid of any rows where that drug was not prescribed, just to reduce noise in our data."
   ]
  },
  {
   "cell_type": "code",
   "execution_count": 24,
   "metadata": {
    "collapsed": false
   },
   "outputs": [],
   "source": [
    "for year in df_years:\n",
    "    nonnull_rows = df_years[year].iloc[:, 2:].apply(lambda x: x.notnull().any(), axis=1)\n",
    "    df_years[year] = df_years[year][nonnull_rows]\n",
    "    df_years[year].index = np.arange(1, len(df_years[year]) + 1)"
   ]
  },
  {
   "cell_type": "markdown",
   "metadata": {},
   "source": [
    "Let's make our column names easier to type and not year-specific, while still retaining most of their original meanings."
   ]
  },
  {
   "cell_type": "code",
   "execution_count": 25,
   "metadata": {
    "collapsed": false
   },
   "outputs": [],
   "source": [
    "generic_columns = [\n",
    "    \"drugname_brand\",\n",
    "    \"drugname_generic\",\n",
    "    \"claim_count\",\n",
    "    \"total_spending\",\n",
    "    \"user_count\",\n",
    "    \"total_spending_per_user\",\n",
    "    \"unit_count\",\n",
    "    \"unit_cost_wavg\",\n",
    "    \"user_count_non_lowincome\",\n",
    "    \"out_of_pocket_avg_non_lowincome\",\n",
    "    \"user_count_lowincome\",\n",
    "    \"out_of_pocket_avg_lowincome\"\n",
    "]\n",
    "\n",
    "for year in df_years:\n",
    "    df_years[year].columns = generic_columns"
   ]
  },
  {
   "cell_type": "markdown",
   "metadata": {},
   "source": [
    "All fields in the annual spending data -- excluding drug names -- are numeric. Let's make sure pandas knows this, because otherwise we'll have trouble writing the data to feather and CSV."
   ]
  },
  {
   "cell_type": "code",
   "execution_count": 26,
   "metadata": {
    "collapsed": false
   },
   "outputs": [],
   "source": [
    "# Suppress SettingWithCopyWarnings because I think it's\n",
    "# tripping on the fact that we have a dict of DataFrames\n",
    "pd.options.mode.chained_assignment = None\n",
    "for year in df_years:\n",
    "    # Ignore the first two columns, which are strings and contain drug names\n",
    "    for col in df_years[year].columns[2:]:\n",
    "        df_years[year].loc[:, col] = pd.to_numeric(df_years[year][col])\n",
    "pd.options.mode.chained_assignment = 'warn'"
   ]
  },
  {
   "cell_type": "markdown",
   "metadata": {},
   "source": [
    "All done cleaning the annual spending data! Let's write to disk in feather and CSV format"
   ]
  },
  {
   "cell_type": "code",
   "execution_count": 29,
   "metadata": {
    "collapsed": false
   },
   "outputs": [],
   "source": [
    "# Write each year's data\n",
    "for year in df_years:\n",
    "    # To feather ...\n",
    "    feather.write_dataframe(df_years[year], 'spending-{year}.feather'.format(year=year))\n",
    "    # And to CSV ...\n",
    "    df_years[year].to_csv('spending-{year}.csv'.format(year=year), index=False)"
   ]
  }
 ],
 "metadata": {
  "kernelspec": {
   "display_name": "Python 3",
   "language": "python",
   "name": "python3"
  },
  "language_info": {
   "codemirror_mode": {
    "name": "ipython",
    "version": 3
   },
   "file_extension": ".py",
   "mimetype": "text/x-python",
   "name": "python",
   "nbconvert_exporter": "python",
   "pygments_lexer": "ipython3",
   "version": "3.5.2"
  }
 },
 "nbformat": 4,
 "nbformat_minor": 2
}
